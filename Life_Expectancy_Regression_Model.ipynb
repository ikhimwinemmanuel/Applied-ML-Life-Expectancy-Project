{
 "cells": [
  {
   "cell_type": "markdown",
   "id": "895b3562-c6eb-4d7e-8c27-369f6c4a6a86",
   "metadata": {},
   "source": [
    "## APPLIED MACHINE LEARNING PROJECT"
   ]
  },
  {
   "cell_type": "markdown",
   "id": "677bd953",
   "metadata": {},
   "source": [
    "<h1 align = \"center\" style = \"color: Green; font-size:30pt\">Life Expectancy Prediction Project</h1>"
   ]
  },
  {
   "cell_type": "code",
   "execution_count": null,
   "id": "4bd9b018-a4db-4d10-8954-99a70be298b4",
   "metadata": {},
   "outputs": [],
   "source": []
  },
  {
   "cell_type": "markdown",
   "id": "82b08530-7b13-41e3-b689-3104ac477b54",
   "metadata": {},
   "source": [
    "# 1  Looking at the Big Picture — Framing the Problem\n",
    "*(Life-Expectancy Project)*\n",
    "\n",
    "## 1.1 Business Objective\n",
    "National health authorities and development agencies need a **reliable forward-looking indicator of overall public-health quality**.  \n",
    "Accurate *life expectancy at birth* predictions let them:\n",
    "\n",
    "* forecast healthcare demand and pension liabilities;\n",
    "* compare progress toward UN Sustainable Development Goals (SDG 3);\n",
    "* prioritise interventions in countries where gains are lagging.\n",
    "\n",
    "## 1.2 Problem Type\n",
    "The target variable **Life expectancy (years)** is continuous ⇒  \n",
    "→ **Supervised • Batch • Model-based • Regression task**\n",
    "\n",
    "## 1.3 Success Metric\n",
    "we use **Root-Mean-Squared Error (RMSE)** because;\n",
    "* it is in the same unit (years) as the target — easy for policy-makers to understand;  \n",
    "* the squared term penalises large medical-policy errors more than small ones, which aligns with risk tolerance.\n",
    "\n",
    "---\n",
    "\n",
    "**Goal statement**\n",
    "\n",
    "> *“Train a regression model that predicts a country’s average life expectancy for a given year using the WHO/UN blended dataset, achieving a test-set RMSE ≤ 3.5 years while maintaining interpretability for policy briefs.”*\n",
    "\n",
    "---\n",
    "\n",
    "* Process ==>: Get the Data → Investigate & Visualise → Prepare the Data → Select & Train a Model → Fine-Tune → Evaluate on the Test Set *\n"
   ]
  },
  {
   "cell_type": "code",
   "execution_count": null,
   "id": "558586d8-2050-4626-b3e0-a0682a1a233f",
   "metadata": {},
   "outputs": [],
   "source": []
  },
  {
   "cell_type": "code",
   "execution_count": 1,
   "id": "da2e2394-6a15-4de1-b0e8-3b52ff0eea7f",
   "metadata": {},
   "outputs": [],
   "source": [
    "#Import Relevant Libraries\n",
    "\n",
    "#Getting Started Libraries\n",
    "import numpy as np\n",
    "import pandas as pd\n",
    "import matplotlib.pyplot as plt\n",
    "import seaborn as sns\n",
    "import plotly.express as px #library for beautiful plots\n",
    "from pathlib import Path #to handle file/folder paths in a clean way\n",
    "\n",
    "# Model Selection and Hyperparameter tuning\n",
    "from sklearn.model_selection import StratifiedShuffleSplit, GridSearchCV\n",
    "\n",
    "# Importing the neccesary sk-learn classes/objects\n",
    "from sklearn.base import BaseEstimator, TransformerMixin\n",
    "from sklearn.preprocessing import StandardScaler, OneHotEncoder\n",
    "from sklearn.impute import SimpleImputer\n",
    "from sklearn.compose import ColumnTransformer\n",
    "from sklearn.pipeline import Pipeline\n",
    "\n",
    "## Importing the neccesary models and error metrics\n",
    "from sklearn.model_selection import cross_val_score\n",
    "from sklearn.metrics import mean_squared_error\n",
    "from sklearn.linear_model import LinearRegression\n",
    "from sklearn.tree import DecisionTreeRegressor\n",
    "from sklearn.ensemble import RandomForestRegressor\n",
    "from sklearn.svm import SVR\n",
    "\n",
    "\n",
    "#Import time model for estimating the time it takes models to evaluate RMSE\n",
    "import time\n",
    "\n",
    "#Saving Model\n",
    "import joblib\n",
    "\n",
    "\n",
    "RANDOM_STATE = 42\n",
    "np.random.seed(RANDOM_STATE) # to add reproducibility\n",
    "\n",
    "#  This is to Show full dataframes during EDA\n",
    "pd.set_option(\"display.max_columns\", None)\n",
    "pd.set_option(\"display.precision\", 2) # set to 2 decimal\n"
   ]
  },
  {
   "cell_type": "code",
   "execution_count": null,
   "id": "ab405cdd-2020-412a-b4ed-094c5dfdae5c",
   "metadata": {},
   "outputs": [],
   "source": []
  },
  {
   "cell_type": "code",
   "execution_count": null,
   "id": "3ad8897b-2762-43a0-8df4-e3f8a1d8978a",
   "metadata": {},
   "outputs": [],
   "source": []
  },
  {
   "cell_type": "markdown",
   "id": "34eee211-d72f-4654-b46a-90f89a733af8",
   "metadata": {},
   "source": [
    "# 2  Get the Data\n",
    "\n",
    "We work with the **WHO / UN Life-Expectancy dataset (22 columns, 2 938 rows, years 2000-2015)**.  \n",
    "To avoid *data-leakage* and to keep our results reproducible, we do the following:\n",
    "\n",
    "1. **Load the raw CSV** into a pandas DataFrame.  \n",
    "2. **Strip hidden spaces** from column names (the file contains trailing blanks) this is done to prevent ==> key errors, bugs and typos.  \n",
    "3. **Create a single test set once** using an 80 / 20 split **stratified** on an engineered `income_cat` attribute (binned ‘Income composition of resources’) so that both sets keep the same wealth distribution.\n"
   ]
  },
  {
   "cell_type": "code",
   "execution_count": null,
   "id": "ffbf59c5-5caa-4f11-b61f-e31ec3848232",
   "metadata": {},
   "outputs": [],
   "source": []
  },
  {
   "cell_type": "code",
   "execution_count": 2,
   "id": "2f28603d-3111-41ec-9b4b-7c54d9423f4e",
   "metadata": {},
   "outputs": [],
   "source": [
    "# 2.1  Read CSV\n",
    "DATA_PATH = Path(\"Applied_ML_Assignment\")\n",
    "df = pd.read_csv(\"Life_Expectancy_Data.csv\")\n",
    "df.columns = df.columns.str.strip()        # clean names\n",
    "\n",
    "# # 2.2  DROP rows that lack the strat attribute (167 rows ≈ 6 %)\n",
    "df = df.dropna(subset=[\"Income composition of resources\"]).copy()\n",
    "\n",
    "# # 2.3  Create helper stratification column (include the lowest value, extend top bin)\n",
    "df[\"income_cat\"] = pd.cut(\n",
    "    df[\"Income composition of resources\"],\n",
    "    bins=[0., 0.2, 0.4, 0.6, 0.8, np.inf],   # last bin is 0.8 – ∞\n",
    "    labels=[1, 2, 3, 4, 5],\n",
    "    include_lowest=True                      # put 0.0 into bin 1\n",
    ")\n",
    "\n"
   ]
  },
  {
   "cell_type": "code",
   "execution_count": 3,
   "id": "1fda62eb-6e6e-4f58-bd10-85126b8340f5",
   "metadata": {},
   "outputs": [
    {
     "name": "stdout",
     "output_type": "stream",
     "text": [
      "Any NaNs left in income_cat? -> 0\n"
     ]
    }
   ],
   "source": [
    "print(\"Any NaNs left in income_cat? ->\", df[\"income_cat\"].isna().sum()) #returns a Boolean Series that is True for every row where income_cat is NaN\n"
   ]
  },
  {
   "cell_type": "code",
   "execution_count": 4,
   "id": "af5600ff-a286-4efa-8cb3-25bfba166c44",
   "metadata": {},
   "outputs": [
    {
     "name": "stdout",
     "output_type": "stream",
     "text": [
      "Train size: (2216, 22),  Test size: (555, 22)\n"
     ]
    }
   ],
   "source": [
    "# 2.4  One-off stratified 80 / 20 split (reproducible)\n",
    "split = StratifiedShuffleSplit(n_splits=1, test_size=0.20,\n",
    "                               random_state=RANDOM_STATE)\n",
    "\n",
    "for train_idx, test_idx in split.split(df, df[\"income_cat\"]):\n",
    "    strat_train_set = df.iloc[train_idx].drop(\"income_cat\", axis=1)\n",
    "    strat_test_set  = df.iloc[test_idx].drop(\"income_cat\", axis=1)\n",
    "\n",
    "\n",
    "print(f\"Train size: {strat_train_set.shape},  Test size: {strat_test_set.shape}\")\n"
   ]
  },
  {
   "cell_type": "code",
   "execution_count": null,
   "id": "200865bb-83d7-4a39-ab6d-396121900d40",
   "metadata": {},
   "outputs": [],
   "source": []
  },
  {
   "cell_type": "code",
   "execution_count": null,
   "id": "9d85859e-dc9b-453a-9818-b7acaca5edde",
   "metadata": {},
   "outputs": [],
   "source": []
  },
  {
   "cell_type": "markdown",
   "id": "2fabe1e7-bfa0-4399-b075-fe43a4a4cff8",
   "metadata": {},
   "source": [
    "# 3  Investigate & Visualise\n",
    "\n",
    "the three-step exploratory :\n",
    "\n",
    "1. **Quick structure check** – `info()`, `describe()`, missing-value heat.\n",
    "2. **Univariate view** – histograms of every numerical feature (log-scale for heavy-tailed counts such as *Measles*).\n",
    "3. **Multivariate view**  \n",
    "   * Pearson correlation matrix heat-map.  \n",
    "   * Scatter-plots of the three strongest ± correlations with the target.  \n",
    "   * Early **feature-engineering ideas** recorded for the next section.\n",
    "\n",
    "> *All plots use the training set only to respect the “no peeking at test data” rule *\n"
   ]
  },
  {
   "cell_type": "code",
   "execution_count": null,
   "id": "578245d3-cd43-474c-a84f-c0c96c7d516c",
   "metadata": {},
   "outputs": [],
   "source": []
  },
  {
   "cell_type": "code",
   "execution_count": 5,
   "id": "f47c4275-ccfb-439a-b8d4-7116dd413e7f",
   "metadata": {},
   "outputs": [
    {
     "name": "stdout",
     "output_type": "stream",
     "text": [
      "--- DataFrame info() ---\n",
      "<class 'pandas.core.frame.DataFrame'>\n",
      "Index: 2216 entries, 2536 to 980\n",
      "Data columns (total 22 columns):\n",
      " #   Column                           Non-Null Count  Dtype  \n",
      "---  ------                           --------------  -----  \n",
      " 0   Country                          2216 non-null   object \n",
      " 1   Year                             2216 non-null   int64  \n",
      " 2   Status                           2216 non-null   object \n",
      " 3   Life expectancy                  2213 non-null   float64\n",
      " 4   Adult Mortality                  2213 non-null   float64\n",
      " 5   infant deaths                    2216 non-null   int64  \n",
      " 6   Alcohol                          2065 non-null   float64\n",
      " 7   percentage expenditure           2216 non-null   float64\n",
      " 8   Hepatitis B                      1816 non-null   float64\n",
      " 9   Measles                          2216 non-null   int64  \n",
      " 10  BMI                              2190 non-null   float64\n",
      " 11  under-five deaths                2216 non-null   int64  \n",
      " 12  Polio                            2200 non-null   float64\n",
      " 13  Total expenditure                2065 non-null   float64\n",
      " 14  Diphtheria                       2200 non-null   float64\n",
      " 15  HIV/AIDS                         2216 non-null   float64\n",
      " 16  GDP                              1991 non-null   float64\n",
      " 17  Population                       1830 non-null   float64\n",
      " 18  thinness  1-19 years             2190 non-null   float64\n",
      " 19  thinness 5-9 years               2190 non-null   float64\n",
      " 20  Income composition of resources  2216 non-null   float64\n",
      " 21  Schooling                        2216 non-null   float64\n",
      "dtypes: float64(16), int64(4), object(2)\n",
      "memory usage: 398.2+ KB\n",
      "\n",
      "--- describe() (numeric) ---\n"
     ]
    },
    {
     "data": {
      "text/html": [
       "<div>\n",
       "<style scoped>\n",
       "    .dataframe tbody tr th:only-of-type {\n",
       "        vertical-align: middle;\n",
       "    }\n",
       "\n",
       "    .dataframe tbody tr th {\n",
       "        vertical-align: top;\n",
       "    }\n",
       "\n",
       "    .dataframe thead th {\n",
       "        text-align: right;\n",
       "    }\n",
       "</style>\n",
       "<table border=\"1\" class=\"dataframe\">\n",
       "  <thead>\n",
       "    <tr style=\"text-align: right;\">\n",
       "      <th></th>\n",
       "      <th>count</th>\n",
       "      <th>mean</th>\n",
       "      <th>std</th>\n",
       "      <th>min</th>\n",
       "      <th>25%</th>\n",
       "      <th>50%</th>\n",
       "      <th>75%</th>\n",
       "      <th>max</th>\n",
       "    </tr>\n",
       "  </thead>\n",
       "  <tbody>\n",
       "    <tr>\n",
       "      <th>Year</th>\n",
       "      <td>2216.0</td>\n",
       "      <td>2.01e+03</td>\n",
       "      <td>4.61e+00</td>\n",
       "      <td>2000.00</td>\n",
       "      <td>2004.00</td>\n",
       "      <td>2.01e+03</td>\n",
       "      <td>2.01e+03</td>\n",
       "      <td>2.02e+03</td>\n",
       "    </tr>\n",
       "    <tr>\n",
       "      <th>Life expectancy</th>\n",
       "      <td>2213.0</td>\n",
       "      <td>6.94e+01</td>\n",
       "      <td>9.33e+00</td>\n",
       "      <td>39.00</td>\n",
       "      <td>63.50</td>\n",
       "      <td>7.22e+01</td>\n",
       "      <td>7.55e+01</td>\n",
       "      <td>8.90e+01</td>\n",
       "    </tr>\n",
       "    <tr>\n",
       "      <th>Adult Mortality</th>\n",
       "      <td>2213.0</td>\n",
       "      <td>1.64e+02</td>\n",
       "      <td>1.23e+02</td>\n",
       "      <td>1.00</td>\n",
       "      <td>75.00</td>\n",
       "      <td>1.44e+02</td>\n",
       "      <td>2.25e+02</td>\n",
       "      <td>7.23e+02</td>\n",
       "    </tr>\n",
       "    <tr>\n",
       "      <th>infant deaths</th>\n",
       "      <td>2216.0</td>\n",
       "      <td>2.94e+01</td>\n",
       "      <td>1.23e+02</td>\n",
       "      <td>0.00</td>\n",
       "      <td>0.00</td>\n",
       "      <td>3.00e+00</td>\n",
       "      <td>1.90e+01</td>\n",
       "      <td>1.80e+03</td>\n",
       "    </tr>\n",
       "    <tr>\n",
       "      <th>Alcohol</th>\n",
       "      <td>2065.0</td>\n",
       "      <td>4.50e+00</td>\n",
       "      <td>4.03e+00</td>\n",
       "      <td>0.01</td>\n",
       "      <td>0.76</td>\n",
       "      <td>3.62e+00</td>\n",
       "      <td>7.51e+00</td>\n",
       "      <td>1.79e+01</td>\n",
       "    </tr>\n",
       "    <tr>\n",
       "      <th>percentage expenditure</th>\n",
       "      <td>2216.0</td>\n",
       "      <td>7.66e+02</td>\n",
       "      <td>1.96e+03</td>\n",
       "      <td>0.00</td>\n",
       "      <td>9.72</td>\n",
       "      <td>7.61e+01</td>\n",
       "      <td>4.91e+02</td>\n",
       "      <td>1.91e+04</td>\n",
       "    </tr>\n",
       "    <tr>\n",
       "      <th>Hepatitis B</th>\n",
       "      <td>1816.0</td>\n",
       "      <td>8.08e+01</td>\n",
       "      <td>2.51e+01</td>\n",
       "      <td>2.00</td>\n",
       "      <td>77.00</td>\n",
       "      <td>9.20e+01</td>\n",
       "      <td>9.70e+01</td>\n",
       "      <td>9.90e+01</td>\n",
       "    </tr>\n",
       "    <tr>\n",
       "      <th>Measles</th>\n",
       "      <td>2216.0</td>\n",
       "      <td>2.20e+03</td>\n",
       "      <td>1.10e+04</td>\n",
       "      <td>0.00</td>\n",
       "      <td>0.00</td>\n",
       "      <td>1.50e+01</td>\n",
       "      <td>3.42e+02</td>\n",
       "      <td>2.12e+05</td>\n",
       "    </tr>\n",
       "    <tr>\n",
       "      <th>BMI</th>\n",
       "      <td>2190.0</td>\n",
       "      <td>3.84e+01</td>\n",
       "      <td>1.99e+01</td>\n",
       "      <td>1.00</td>\n",
       "      <td>19.10</td>\n",
       "      <td>4.38e+01</td>\n",
       "      <td>5.60e+01</td>\n",
       "      <td>8.33e+01</td>\n",
       "    </tr>\n",
       "    <tr>\n",
       "      <th>under-five deaths</th>\n",
       "      <td>2216.0</td>\n",
       "      <td>4.06e+01</td>\n",
       "      <td>1.66e+02</td>\n",
       "      <td>0.00</td>\n",
       "      <td>0.00</td>\n",
       "      <td>3.00e+00</td>\n",
       "      <td>2.40e+01</td>\n",
       "      <td>2.50e+03</td>\n",
       "    </tr>\n",
       "    <tr>\n",
       "      <th>Polio</th>\n",
       "      <td>2200.0</td>\n",
       "      <td>8.27e+01</td>\n",
       "      <td>2.33e+01</td>\n",
       "      <td>3.00</td>\n",
       "      <td>78.00</td>\n",
       "      <td>9.30e+01</td>\n",
       "      <td>9.70e+01</td>\n",
       "      <td>9.90e+01</td>\n",
       "    </tr>\n",
       "    <tr>\n",
       "      <th>Total expenditure</th>\n",
       "      <td>2065.0</td>\n",
       "      <td>5.87e+00</td>\n",
       "      <td>2.36e+00</td>\n",
       "      <td>0.37</td>\n",
       "      <td>4.24</td>\n",
       "      <td>5.73e+00</td>\n",
       "      <td>7.44e+00</td>\n",
       "      <td>1.38e+01</td>\n",
       "    </tr>\n",
       "    <tr>\n",
       "      <th>Diphtheria</th>\n",
       "      <td>2200.0</td>\n",
       "      <td>8.26e+01</td>\n",
       "      <td>2.34e+01</td>\n",
       "      <td>2.00</td>\n",
       "      <td>78.00</td>\n",
       "      <td>9.30e+01</td>\n",
       "      <td>9.70e+01</td>\n",
       "      <td>9.90e+01</td>\n",
       "    </tr>\n",
       "    <tr>\n",
       "      <th>HIV/AIDS</th>\n",
       "      <td>2216.0</td>\n",
       "      <td>1.78e+00</td>\n",
       "      <td>5.26e+00</td>\n",
       "      <td>0.10</td>\n",
       "      <td>0.10</td>\n",
       "      <td>1.00e-01</td>\n",
       "      <td>7.00e-01</td>\n",
       "      <td>5.06e+01</td>\n",
       "    </tr>\n",
       "    <tr>\n",
       "      <th>GDP</th>\n",
       "      <td>1991.0</td>\n",
       "      <td>7.41e+03</td>\n",
       "      <td>1.39e+04</td>\n",
       "      <td>3.69</td>\n",
       "      <td>462.50</td>\n",
       "      <td>1.76e+03</td>\n",
       "      <td>6.04e+03</td>\n",
       "      <td>1.19e+05</td>\n",
       "    </tr>\n",
       "    <tr>\n",
       "      <th>Population</th>\n",
       "      <td>1830.0</td>\n",
       "      <td>1.22e+07</td>\n",
       "      <td>6.02e+07</td>\n",
       "      <td>34.00</td>\n",
       "      <td>183894.25</td>\n",
       "      <td>1.35e+06</td>\n",
       "      <td>7.24e+06</td>\n",
       "      <td>1.29e+09</td>\n",
       "    </tr>\n",
       "    <tr>\n",
       "      <th>thinness  1-19 years</th>\n",
       "      <td>2190.0</td>\n",
       "      <td>4.95e+00</td>\n",
       "      <td>4.56e+00</td>\n",
       "      <td>0.10</td>\n",
       "      <td>1.60</td>\n",
       "      <td>3.40e+00</td>\n",
       "      <td>7.30e+00</td>\n",
       "      <td>2.77e+01</td>\n",
       "    </tr>\n",
       "    <tr>\n",
       "      <th>thinness 5-9 years</th>\n",
       "      <td>2190.0</td>\n",
       "      <td>4.97e+00</td>\n",
       "      <td>4.62e+00</td>\n",
       "      <td>0.10</td>\n",
       "      <td>1.60</td>\n",
       "      <td>3.40e+00</td>\n",
       "      <td>7.30e+00</td>\n",
       "      <td>2.86e+01</td>\n",
       "    </tr>\n",
       "    <tr>\n",
       "      <th>Income composition of resources</th>\n",
       "      <td>2216.0</td>\n",
       "      <td>6.27e-01</td>\n",
       "      <td>2.11e-01</td>\n",
       "      <td>0.00</td>\n",
       "      <td>0.49</td>\n",
       "      <td>6.77e-01</td>\n",
       "      <td>7.80e-01</td>\n",
       "      <td>9.45e-01</td>\n",
       "    </tr>\n",
       "    <tr>\n",
       "      <th>Schooling</th>\n",
       "      <td>2216.0</td>\n",
       "      <td>1.20e+01</td>\n",
       "      <td>3.36e+00</td>\n",
       "      <td>0.00</td>\n",
       "      <td>10.10</td>\n",
       "      <td>1.24e+01</td>\n",
       "      <td>1.42e+01</td>\n",
       "      <td>2.07e+01</td>\n",
       "    </tr>\n",
       "  </tbody>\n",
       "</table>\n",
       "</div>"
      ],
      "text/plain": [
       "                                  count      mean       std      min  \\\n",
       "Year                             2216.0  2.01e+03  4.61e+00  2000.00   \n",
       "Life expectancy                  2213.0  6.94e+01  9.33e+00    39.00   \n",
       "Adult Mortality                  2213.0  1.64e+02  1.23e+02     1.00   \n",
       "infant deaths                    2216.0  2.94e+01  1.23e+02     0.00   \n",
       "Alcohol                          2065.0  4.50e+00  4.03e+00     0.01   \n",
       "percentage expenditure           2216.0  7.66e+02  1.96e+03     0.00   \n",
       "Hepatitis B                      1816.0  8.08e+01  2.51e+01     2.00   \n",
       "Measles                          2216.0  2.20e+03  1.10e+04     0.00   \n",
       "BMI                              2190.0  3.84e+01  1.99e+01     1.00   \n",
       "under-five deaths                2216.0  4.06e+01  1.66e+02     0.00   \n",
       "Polio                            2200.0  8.27e+01  2.33e+01     3.00   \n",
       "Total expenditure                2065.0  5.87e+00  2.36e+00     0.37   \n",
       "Diphtheria                       2200.0  8.26e+01  2.34e+01     2.00   \n",
       "HIV/AIDS                         2216.0  1.78e+00  5.26e+00     0.10   \n",
       "GDP                              1991.0  7.41e+03  1.39e+04     3.69   \n",
       "Population                       1830.0  1.22e+07  6.02e+07    34.00   \n",
       "thinness  1-19 years             2190.0  4.95e+00  4.56e+00     0.10   \n",
       "thinness 5-9 years               2190.0  4.97e+00  4.62e+00     0.10   \n",
       "Income composition of resources  2216.0  6.27e-01  2.11e-01     0.00   \n",
       "Schooling                        2216.0  1.20e+01  3.36e+00     0.00   \n",
       "\n",
       "                                       25%       50%       75%       max  \n",
       "Year                               2004.00  2.01e+03  2.01e+03  2.02e+03  \n",
       "Life expectancy                      63.50  7.22e+01  7.55e+01  8.90e+01  \n",
       "Adult Mortality                      75.00  1.44e+02  2.25e+02  7.23e+02  \n",
       "infant deaths                         0.00  3.00e+00  1.90e+01  1.80e+03  \n",
       "Alcohol                               0.76  3.62e+00  7.51e+00  1.79e+01  \n",
       "percentage expenditure                9.72  7.61e+01  4.91e+02  1.91e+04  \n",
       "Hepatitis B                          77.00  9.20e+01  9.70e+01  9.90e+01  \n",
       "Measles                               0.00  1.50e+01  3.42e+02  2.12e+05  \n",
       "BMI                                  19.10  4.38e+01  5.60e+01  8.33e+01  \n",
       "under-five deaths                     0.00  3.00e+00  2.40e+01  2.50e+03  \n",
       "Polio                                78.00  9.30e+01  9.70e+01  9.90e+01  \n",
       "Total expenditure                     4.24  5.73e+00  7.44e+00  1.38e+01  \n",
       "Diphtheria                           78.00  9.30e+01  9.70e+01  9.90e+01  \n",
       "HIV/AIDS                              0.10  1.00e-01  7.00e-01  5.06e+01  \n",
       "GDP                                 462.50  1.76e+03  6.04e+03  1.19e+05  \n",
       "Population                       183894.25  1.35e+06  7.24e+06  1.29e+09  \n",
       "thinness  1-19 years                  1.60  3.40e+00  7.30e+00  2.77e+01  \n",
       "thinness 5-9 years                    1.60  3.40e+00  7.30e+00  2.86e+01  \n",
       "Income composition of resources       0.49  6.77e-01  7.80e-01  9.45e-01  \n",
       "Schooling                            10.10  1.24e+01  1.42e+01  2.07e+01  "
      ]
     },
     "metadata": {},
     "output_type": "display_data"
    },
    {
     "name": "stdout",
     "output_type": "stream",
     "text": [
      "\n",
      "Status value counts:\n",
      "Status\n",
      "Developing    1849\n",
      "Developed      367\n",
      "Name: count, dtype: int64\n"
     ]
    }
   ],
   "source": [
    "# Basic structure\n",
    "train = strat_train_set.copy()   # To work only on the training data\n",
    "\n",
    "print(\"--- DataFrame info() ---\")\n",
    "train.info()\n",
    "print(\"\\n--- describe() (numeric) ---\")\n",
    "display(train.describe().T)\n",
    "\n",
    "# Quick look at categorical variable\n",
    "print(\"\\nStatus value counts:\")\n",
    "print(train[\"Status\"].value_counts())\n"
   ]
  },
  {
   "cell_type": "code",
   "execution_count": null,
   "id": "b41a79c6-2900-4585-a4e0-292e20d48ed6",
   "metadata": {},
   "outputs": [],
   "source": []
  },
  {
   "cell_type": "code",
   "execution_count": 6,
   "id": "3dacee80-a819-4a8e-b426-17cdaf91731d",
   "metadata": {},
   "outputs": [
    {
     "data": {
      "image/png": "[encoded data removed]",
      "text/plain": [
       "<Figure size 1000x800 with 1 Axes>"
      ]
     },
     "metadata": {},
     "output_type": "display_data"
    }
   ],
   "source": [
    "# Columns with lots of missing data (tall dark bands)—important for deciding an imputation strategy or whether to drop a feature.\n",
    "\n",
    "plt.figure(figsize=(10, 8))\n",
    "sns.heatmap(train.isna(), cbar=False)\n",
    "plt.title(\"Missing-value pattern (training set)\")\n",
    "plt.tight_layout()\n",
    "plt.show()\n"
   ]
  },
  {
   "cell_type": "code",
   "execution_count": 7,
   "id": "1c9be1f8-a3c4-4923-a852-0d4338cca718",
   "metadata": {},
   "outputs": [
    {
     "data": {
      "image/png": "[encoded data removed]",
      "text/plain": [
       "<Figure size 1400x800 with 20 Axes>"
      ]
     },
     "metadata": {},
     "output_type": "display_data"
    }
   ],
   "source": [
    "# Histograms for every numeric feature distribution in the training set\n",
    "\n",
    "ax = train.hist(figsize=(14, 8), bins=40, xrot=45)  # rotate x-tick labels \n",
    "plt.suptitle(\"Feature distributions (training set)\", y=1.02, fontsize=14)\n",
    "plt.tight_layout()   # auto-pad so labels don’t collide\n",
    "plt.savefig(\"Histogram of Features (training set)\", dpi = 300)\n",
    "plt.show()\n"
   ]
  },
  {
   "cell_type": "code",
   "execution_count": 8,
   "id": "601b898d",
   "metadata": {},
   "outputs": [
    {
     "data": {
      "application/vnd.plotly.v1+json": {
       "config": {
        "plotlyServerURL": "https://plot.ly"
       },
       "data": [
        {
         "coloraxis": "coloraxis",
         "hovertemplate": "x: %{x}<br>y: %{y}<br>color: %{z}<extra></extra>",
         "name": "0",
         "type": "heatmap",
         "x": [
          "Year",
          "Adult Mortality",
          "infant deaths",
          "Alcohol",
          "percentage expenditure",
          "Hepatitis B",
          "Measles",
          "BMI",
          "under-five deaths",
          "Polio",
          "Total expenditure",
          "Diphtheria",
          "HIV/AIDS",
          "GDP",
          "Population",
          "thinness  1-19 years",
          "thinness 5-9 years",
          "Income composition of resources",
          "Schooling"
         ],
         "xaxis": "x",
         "y": [
          "Year",
          "Adult Mortality",
          "infant deaths",
          "Alcohol",
          "percentage expenditure",
          "Hepatitis B",
          "Measles",
          "BMI",
          "under-five deaths",
          "Polio",
          "Total expenditure",
          "Diphtheria",
          "HIV/AIDS",
          "GDP",
          "Population",
          "thinness  1-19 years",
          "thinness 5-9 years",
          "Income composition of resources",
          "Schooling"
         ],
         "yaxis": "y",
         "z": [
          [
           1,
           -0.09337591292828827,
           -0.04062354567344236,
           -0.051963193940866195,
           0.03399822081281974,
           0.10637705140807058,
           -0.09928876311637908,
           0.10072073806258172,
           -0.04600391401333979,
           0.09071367977240709,
           0.09768393219454657,
           0.1440101345519717,
           -0.14401935642778257,
           0.10341270502842946,
           0.011202808358158577,
           -0.04449629372387882,
           -0.04190902043004113,
           0.23820451196263098,
           0.21260121635223148
          ],
          [
           -0.09337591292828827,
           1,
           0.07142818660306806,
           -0.17973537426360744,
           -0.2505349787699384,
           -0.13893530279656666,
           0.007740842573407277,
           -0.36739462325068517,
           0.08581009698674458,
           -0.24084714640557525,
           -0.07912533094587237,
           -0.2394946826590556,
           0.5601429828727056,
           -0.29861149693884537,
           -0.009555613126571742,
           0.2911844994559022,
           0.29827446372732486,
           -0.4682752394165969,
           -0.45486197613165114
          ],
          [
           -0.04062354567344236,
           0.07142818660306806,
           1,
           -0.10836059864340285,
           -0.08354476129122008,
           -0.2018714438796022,
           0.5101966455931557,
           -0.21720740071613173,
           0.9967061963782315,
           -0.15841682509338118,
           -0.12123707013685098,
           -0.16232723312796785,
           0.013595094337366222,
           -0.10745303826227787,
           0.5517743555149038,
           0.46797245370736645,
           0.471982922438754,
           -0.1449865407932963,
           -0.19825928482842176
          ],
          [
           -0.051963193940866195,
           -0.17973537426360744,
           -0.10836059864340285,
           1,
           0.377807753428834,
           0.0495638384222768,
           -0.029218552778164108,
           0.32038029183977956,
           -0.10470586424214724,
           0.20415092324911907,
           0.2700677662787493,
           0.20607759869529838,
           -0.03698691615605789,
           0.36315751059286305,
           -0.031335848301757764,
           -0.4264777012577745,
           -0.4140903367004589,
           0.45778979228333694,
           0.5533337403775824
          ],
          [
           0.03399822081281974,
           -0.2505349787699384,
           -0.08354476129122008,
           0.377807753428834,
           1,
           0.01276049619157347,
           -0.05247564510836873,
           0.23240287865597956,
           -0.08574755693790544,
           0.14973029221599696,
           0.1776081618956648,
           0.14683156594366,
           -0.10197576030576869,
           0.8959206780539741,
           -0.021711635421283484,
           -0.2630256443847782,
           -0.26486817592820194,
           0.3850568645178268,
           0.3930629770460187
          ],
          [
           0.10637705140807058,
           -0.13893530279656666,
           -0.2018714438796022,
           0.0495638384222768,
           0.01276049619157347,
           1,
           -0.10909658667217403,
           0.12333561009517838,
           -0.21218959587468914,
           0.4861906830314664,
           0.07507270472107162,
           0.6154343544542532,
           -0.11054456703008057,
           0.08023016848406289,
           -0.1213940443102571,
           -0.10890046643768202,
           -0.11671683148989373,
           0.18698603757187243,
           0.21585043369382806
          ],
          [
           -0.09928876311637908,
           0.007740842573407277,
           0.5101966455931557,
           -0.029218552778164108,
           -0.05247564510836873,
           -0.10909658667217403,
           1,
           -0.16576949324515225,
           0.5201055493354059,
           -0.11990180268415718,
           -0.08522308478427389,
           -0.12451090396979723,
           0.027934373246095514,
           -0.073837503730039,
           0.27187411481579127,
           0.23571926584272282,
           0.23276633040303293,
           -0.13707133414869577,
           -0.14161659385222403
          ],
          [
           0.10072073806258172,
           -0.36739462325068517,
           -0.21720740071613173,
           0.32038029183977956,
           0.23240287865597956,
           0.12333561009517838,
           -0.16576949324515225,
           1,
           -0.22683710630756254,
           0.2784757932427683,
           0.20680076129672847,
           0.2676526735732376,
           -0.2398580974472953,
           0.30336624652003324,
           -0.06964567584478723,
           -0.5389478927109198,
           -0.5443786784302754,
           0.5137830771667182,
           0.5574627369095633
          ],
          [
           -0.04600391401333979,
           0.08581009698674458,
           0.9967061963782315,
           -0.10470586424214724,
           -0.08574755693790544,
           -0.21218959587468914,
           0.5201055493354059,
           -0.22683710630756254,
           1,
           -0.17466050996259597,
           -0.12101272258537588,
           -0.18170337887612237,
           0.02533578519558621,
           -0.11118599573080125,
           0.5383599527892331,
           0.4688908547326673,
           0.4719063636311292,
           -0.16298133097788134,
           -0.21365473153129655
          ],
          [
           0.09071367977240709,
           -0.24084714640557525,
           -0.15841682509338118,
           0.20415092324911907,
           0.14973029221599696,
           0.4861906830314664,
           -0.11990180268415718,
           0.2784757932427683,
           -0.17466050996259597,
           1,
           0.13184772558545155,
           0.6868468942023761,
           -0.1461508205512155,
           0.2116651508247916,
           -0.0370228146878143,
           -0.21687006486230323,
           -0.22208574620307078,
           0.3776032536659366,
           0.4121734353408701
          ],
          [
           0.09768393219454657,
           -0.07912533094587237,
           -0.12123707013685098,
           0.2700677662787493,
           0.1776081618956648,
           0.07507270472107162,
           -0.08522308478427389,
           0.20680076129672847,
           -0.12101272258537588,
           0.13184772558545155,
           1,
           0.14514213892844566,
           0.011253325702473522,
           0.11508555843836338,
           -0.07533458593642534,
           -0.25324315487481724,
           -0.256167066794829,
           0.15898841241462527,
           0.2517244867651319
          ],
          [
           0.1440101345519717,
           -0.2394946826590556,
           -0.16232723312796785,
           0.20607759869529838,
           0.14683156594366,
           0.6154343544542532,
           -0.12451090396979723,
           0.2676526735732376,
           -0.18170337887612237,
           0.6868468942023761,
           0.14514213892844566,
           1,
           -0.15722844745562364,
           0.20346393647935382,
           -0.027882764818860727,
           -0.22202944745149258,
           -0.22096083769884742,
           0.3968878944795021,
           0.4167137046166534
          ],
          [
           -0.14401935642778257,
           0.5601429828727056,
           0.013595094337366222,
           -0.03698691615605789,
           -0.10197576030576869,
           -0.11054456703008057,
           0.027934373246095514,
           -0.2398580974472953,
           0.02533578519558621,
           -0.1461508205512155,
           0.011253325702473522,
           -0.15722844745562364,
           1,
           -0.13848313566344564,
           -0.029406515116601622,
           0.19731234339564283,
           0.20070182233093228,
           -0.24820123013159284,
           -0.21722471892686118
          ],
          [
           0.10341270502842946,
           -0.29861149693884537,
           -0.10745303826227787,
           0.36315751059286305,
           0.8959206780539741,
           0.08023016848406289,
           -0.073837503730039,
           0.30336624652003324,
           -0.11118599573080125,
           0.2116651508247916,
           0.11508555843836338,
           0.20346393647935382,
           -0.13848313566344564,
           1,
           -0.024632223134385366,
           -0.28913209171103865,
           -0.2932027383596285,
           0.4624048399431984,
           0.44680361279729386
          ],
          [
           0.011202808358158577,
           -0.009555613126571742,
           0.5517743555149038,
           -0.031335848301757764,
           -0.021711635421283484,
           -0.1213940443102571,
           0.27187411481579127,
           -0.06964567584478723,
           0.5383599527892331,
           -0.0370228146878143,
           -0.07533458593642534,
           -0.027882764818860727,
           -0.029406515116601622,
           -0.024632223134385366,
           1,
           0.2598619563708724,
           0.2546543910170266,
           -0.013130771822188721,
           -0.03581663441506915
          ],
          [
           -0.04449629372387882,
           0.2911844994559022,
           0.46797245370736645,
           -0.4264777012577745,
           -0.2630256443847782,
           -0.10890046643768202,
           0.23571926584272282,
           -0.5389478927109198,
           0.4688908547326673,
           -0.21687006486230323,
           -0.25324315487481724,
           -0.22202944745149258,
           0.19731234339564283,
           -0.28913209171103865,
           0.2598619563708724,
           1,
           0.9400197628549264,
           -0.43300767595287026,
           -0.48630577064606295
          ],
          [
           -0.04190902043004113,
           0.29827446372732486,
           0.471982922438754,
           -0.4140903367004589,
           -0.26486817592820194,
           -0.11671683148989373,
           0.23276633040303293,
           -0.5443786784302754,
           0.4719063636311292,
           -0.22208574620307078,
           -0.256167066794829,
           -0.22096083769884742,
           0.20070182233093228,
           -0.2932027383596285,
           0.2546543910170266,
           0.9400197628549264,
           1,
           -0.4215003618287028,
           -0.47305545023536544
          ],
          [
           0.23820451196263098,
           -0.4682752394165969,
           -0.1449865407932963,
           0.45778979228333694,
           0.3850568645178268,
           0.18698603757187243,
           -0.13707133414869577,
           0.5137830771667182,
           -0.16298133097788134,
           0.3776032536659366,
           0.15898841241462527,
           0.3968878944795021,
           -0.24820123013159284,
           0.4624048399431984,
           -0.013130771822188721,
           -0.43300767595287026,
           -0.4215003618287028,
           1,
           0.8021479497515734
          ],
          [
           0.21260121635223148,
           -0.45486197613165114,
           -0.19825928482842176,
           0.5533337403775824,
           0.3930629770460187,
           0.21585043369382806,
           -0.14161659385222403,
           0.5574627369095633,
           -0.21365473153129655,
           0.4121734353408701,
           0.2517244867651319,
           0.4167137046166534,
           -0.21722471892686118,
           0.44680361279729386,
           -0.03581663441506915,
           -0.48630577064606295,
           -0.47305545023536544,
           0.8021479497515734,
           1
          ]
         ]
        }
       ],
       "layout": {
        "coloraxis": {
         "colorscale": [
          [
           0,
           "#0d0887"
          ],
          [
           0.1111111111111111,
           "#46039f"
          ],
          [
           0.2222222222222222,
           "#7201a8"
          ],
          [
           0.3333333333333333,
           "#9c179e"
          ],
          [
           0.4444444444444444,
           "#bd3786"
          ],
          [
           0.5555555555555556,
           "#d8576b"
          ],
          [
           0.6666666666666666,
           "#ed7953"
          ],
          [
           0.7777777777777778,
           "#fb9f3a"
          ],
          [
           0.8888888888888888,
           "#fdca26"
          ],
          [
           1,
           "#f0f921"
          ]
         ]
        },
        "height": 700,
        "template": {
         "data": {
          "bar": [
           {
            "error_x": {
             "color": "#2a3f5f"
            },
            "error_y": {
             "color": "#2a3f5f"
            },
            "marker": {
             "line": {
              "color": "#E5ECF6",
              "width": 0.5
             },
             "pattern": {
              "fillmode": "overlay",
              "size": 10,
              "solidity": 0.2
             }
            },
            "type": "bar"
           }
          ],
          "barpolar": [
           {
            "marker": {
             "line": {
              "color": "#E5ECF6",
              "width": 0.5
             },
             "pattern": {
              "fillmode": "overlay",
              "size": 10,
              "solidity": 0.2
             }
            },
            "type": "barpolar"
           }
          ],
          "carpet": [
           {
            "aaxis": {
             "endlinecolor": "#2a3f5f",
             "gridcolor": "white",
             "linecolor": "white",
             "minorgridcolor": "white",
             "startlinecolor": "#2a3f5f"
            },
            "baxis": {
             "endlinecolor": "#2a3f5f",
             "gridcolor": "white",
             "linecolor": "white",
             "minorgridcolor": "white",
             "startlinecolor": "#2a3f5f"
            },
            "type": "carpet"
           }
          ],
          "choropleth": [
           {
            "colorbar": {
             "outlinewidth": 0,
             "ticks": ""
            },
            "type": "choropleth"
           }
          ],
          "contour": [
           {
            "colorbar": {
             "outlinewidth": 0,
             "ticks": ""
            },
            "colorscale": [
             [
              0,
              "#0d0887"
             ],
             [
              0.1111111111111111,
              "#46039f"
             ],
             [
              0.2222222222222222,
              "#7201a8"
             ],
             [
              0.3333333333333333,
              "#9c179e"
             ],
             [
              0.4444444444444444,
              "#bd3786"
             ],
             [
              0.5555555555555556,
              "#d8576b"
             ],
             [
              0.6666666666666666,
              "#ed7953"
             ],
             [
              0.7777777777777778,
              "#fb9f3a"
             ],
             [
              0.8888888888888888,
              "#fdca26"
             ],
             [
              1,
              "#f0f921"
             ]
            ],
            "type": "contour"
           }
          ],
          "contourcarpet": [
           {
            "colorbar": {
             "outlinewidth": 0,
             "ticks": ""
            },
            "type": "contourcarpet"
           }
          ],
          "heatmap": [
           {
            "colorbar": {
             "outlinewidth": 0,
             "ticks": ""
            },
            "colorscale": [
             [
              0,
              "#0d0887"
             ],
             [
              0.1111111111111111,
              "#46039f"
             ],
             [
              0.2222222222222222,
              "#7201a8"
             ],
             [
              0.3333333333333333,
              "#9c179e"
             ],
             [
              0.4444444444444444,
              "#bd3786"
             ],
             [
              0.5555555555555556,
              "#d8576b"
             ],
             [
              0.6666666666666666,
              "#ed7953"
             ],
             [
              0.7777777777777778,
              "#fb9f3a"
             ],
             [
              0.8888888888888888,
              "#fdca26"
             ],
             [
              1,
              "#f0f921"
             ]
            ],
            "type": "heatmap"
           }
          ],
          "heatmapgl": [
           {
            "colorbar": {
             "outlinewidth": 0,
             "ticks": ""
            },
            "colorscale": [
             [
              0,
              "#0d0887"
             ],
             [
              0.1111111111111111,
              "#46039f"
             ],
             [
              0.2222222222222222,
              "#7201a8"
             ],
             [
              0.3333333333333333,
              "#9c179e"
             ],
             [
              0.4444444444444444,
              "#bd3786"
             ],
             [
              0.5555555555555556,
              "#d8576b"
             ],
             [
              0.6666666666666666,
              "#ed7953"
             ],
             [
              0.7777777777777778,
              "#fb9f3a"
             ],
             [
              0.8888888888888888,
              "#fdca26"
             ],
             [
              1,
              "#f0f921"
             ]
            ],
            "type": "heatmapgl"
           }
          ],
          "histogram": [
           {
            "marker": {
             "pattern": {
              "fillmode": "overlay",
              "size": 10,
              "solidity": 0.2
             }
            },
            "type": "histogram"
           }
          ],
          "histogram2d": [
           {
            "colorbar": {
             "outlinewidth": 0,
             "ticks": ""
            },
            "colorscale": [
             [
              0,
              "#0d0887"
             ],
             [
              0.1111111111111111,
              "#46039f"
             ],
             [
              0.2222222222222222,
              "#7201a8"
             ],
             [
              0.3333333333333333,
              "#9c179e"
             ],
             [
              0.4444444444444444,
              "#bd3786"
             ],
             [
              0.5555555555555556,
              "#d8576b"
             ],
             [
              0.6666666666666666,
              "#ed7953"
             ],
             [
              0.7777777777777778,
              "#fb9f3a"
             ],
             [
              0.8888888888888888,
              "#fdca26"
             ],
             [
              1,
              "#f0f921"
             ]
            ],
            "type": "histogram2d"
           }
          ],
          "histogram2dcontour": [
           {
            "colorbar": {
             "outlinewidth": 0,
             "ticks": ""
            },
            "colorscale": [
             [
              0,
              "#0d0887"
             ],
             [
              0.1111111111111111,
              "#46039f"
             ],
             [
              0.2222222222222222,
              "#7201a8"
             ],
             [
              0.3333333333333333,
              "#9c179e"
             ],
             [
              0.4444444444444444,
              "#bd3786"
             ],
             [
              0.5555555555555556,
              "#d8576b"
             ],
             [
              0.6666666666666666,
              "#ed7953"
             ],
             [
              0.7777777777777778,
              "#fb9f3a"
             ],
             [
              0.8888888888888888,
              "#fdca26"
             ],
             [
              1,
              "#f0f921"
             ]
            ],
            "type": "histogram2dcontour"
           }
          ],
          "mesh3d": [
           {
            "colorbar": {
             "outlinewidth": 0,
             "ticks": ""
            },
            "type": "mesh3d"
           }
          ],
          "parcoords": [
           {
            "line": {
             "colorbar": {
              "outlinewidth": 0,
              "ticks": ""
             }
            },
            "type": "parcoords"
           }
          ],
          "pie": [
           {
            "automargin": true,
            "type": "pie"
           }
          ],
          "scatter": [
           {
            "fillpattern": {
             "fillmode": "overlay",
             "size": 10,
             "solidity": 0.2
            },
            "type": "scatter"
           }
          ],
          "scatter3d": [
           {
            "line": {
             "colorbar": {
              "outlinewidth": 0,
              "ticks": ""
             }
            },
            "marker": {
             "colorbar": {
              "outlinewidth": 0,
              "ticks": ""
             }
            },
            "type": "scatter3d"
           }
          ],
          "scattercarpet": [
           {
            "marker": {
             "colorbar": {
              "outlinewidth": 0,
              "ticks": ""
             }
            },
            "type": "scattercarpet"
           }
          ],
          "scattergeo": [
           {
            "marker": {
             "colorbar": {
              "outlinewidth": 0,
              "ticks": ""
             }
            },
            "type": "scattergeo"
           }
          ],
          "scattergl": [
           {
            "marker": {
             "colorbar": {
              "outlinewidth": 0,
              "ticks": ""
             }
            },
            "type": "scattergl"
           }
          ],
          "scattermapbox": [
           {
            "marker": {
             "colorbar": {
              "outlinewidth": 0,
              "ticks": ""
             }
            },
            "type": "scattermapbox"
           }
          ],
          "scatterpolar": [
           {
            "marker": {
             "colorbar": {
              "outlinewidth": 0,
              "ticks": ""
             }
            },
            "type": "scatterpolar"
           }
          ],
          "scatterpolargl": [
           {
            "marker": {
             "colorbar": {
              "outlinewidth": 0,
              "ticks": ""
             }
            },
            "type": "scatterpolargl"
           }
          ],
          "scatterternary": [
           {
            "marker": {
             "colorbar": {
              "outlinewidth": 0,
              "ticks": ""
             }
            },
            "type": "scatterternary"
           }
          ],
          "surface": [
           {
            "colorbar": {
             "outlinewidth": 0,
             "ticks": ""
            },
            "colorscale": [
             [
              0,
              "#0d0887"
             ],
             [
              0.1111111111111111,
              "#46039f"
             ],
             [
              0.2222222222222222,
              "#7201a8"
             ],
             [
              0.3333333333333333,
              "#9c179e"
             ],
             [
              0.4444444444444444,
              "#bd3786"
             ],
             [
              0.5555555555555556,
              "#d8576b"
             ],
             [
              0.6666666666666666,
              "#ed7953"
             ],
             [
              0.7777777777777778,
              "#fb9f3a"
             ],
             [
              0.8888888888888888,
              "#fdca26"
             ],
             [
              1,
              "#f0f921"
             ]
            ],
            "type": "surface"
           }
          ],
          "table": [
           {
            "cells": {
             "fill": {
              "color": "#EBF0F8"
             },
             "line": {
              "color": "white"
             }
            },
            "header": {
             "fill": {
              "color": "#C8D4E3"
             },
             "line": {
              "color": "white"
             }
            },
            "type": "table"
           }
          ]
         },
         "layout": {
          "annotationdefaults": {
           "arrowcolor": "#2a3f5f",
           "arrowhead": 0,
           "arrowwidth": 1
          },
          "autotypenumbers": "strict",
          "coloraxis": {
           "colorbar": {
            "outlinewidth": 0,
            "ticks": ""
           }
          },
          "colorscale": {
           "diverging": [
            [
             0,
             "#8e0152"
            ],
            [
             0.1,
             "#c51b7d"
            ],
            [
             0.2,
             "#de77ae"
            ],
            [
             0.3,
             "#f1b6da"
            ],
            [
             0.4,
             "#fde0ef"
            ],
            [
             0.5,
             "#f7f7f7"
            ],
            [
             0.6,
             "#e6f5d0"
            ],
            [
             0.7,
             "#b8e186"
            ],
            [
             0.8,
             "#7fbc41"
            ],
            [
             0.9,
             "#4d9221"
            ],
            [
             1,
             "#276419"
            ]
           ],
           "sequential": [
            [
             0,
             "#0d0887"
            ],
            [
             0.1111111111111111,
             "#46039f"
            ],
            [
             0.2222222222222222,
             "#7201a8"
            ],
            [
             0.3333333333333333,
             "#9c179e"
            ],
            [
             0.4444444444444444,
             "#bd3786"
            ],
            [
             0.5555555555555556,
             "#d8576b"
            ],
            [
             0.6666666666666666,
             "#ed7953"
            ],
            [
             0.7777777777777778,
             "#fb9f3a"
            ],
            [
             0.8888888888888888,
             "#fdca26"
            ],
            [
             1,
             "#f0f921"
            ]
           ],
           "sequentialminus": [
            [
             0,
             "#0d0887"
            ],
            [
             0.1111111111111111,
             "#46039f"
            ],
            [
             0.2222222222222222,
             "#7201a8"
            ],
            [
             0.3333333333333333,
             "#9c179e"
            ],
            [
             0.4444444444444444,
             "#bd3786"
            ],
            [
             0.5555555555555556,
             "#d8576b"
            ],
            [
             0.6666666666666666,
             "#ed7953"
            ],
            [
             0.7777777777777778,
             "#fb9f3a"
            ],
            [
             0.8888888888888888,
             "#fdca26"
            ],
            [
             1,
             "#f0f921"
            ]
           ]
          },
          "colorway": [
           "#636efa",
           "#EF553B",
           "#00cc96",
           "#ab63fa",
           "#FFA15A",
           "#19d3f3",
           "#FF6692",
           "#B6E880",
           "#FF97FF",
           "#FECB52"
          ],
          "font": {
           "color": "#2a3f5f"
          },
          "geo": {
           "bgcolor": "white",
           "lakecolor": "white",
           "landcolor": "#E5ECF6",
           "showlakes": true,
           "showland": true,
           "subunitcolor": "white"
          },
          "hoverlabel": {
           "align": "left"
          },
          "hovermode": "closest",
          "mapbox": {
           "style": "light"
          },
          "paper_bgcolor": "white",
          "plot_bgcolor": "#E5ECF6",
          "polar": {
           "angularaxis": {
            "gridcolor": "white",
            "linecolor": "white",
            "ticks": ""
           },
           "bgcolor": "#E5ECF6",
           "radialaxis": {
            "gridcolor": "white",
            "linecolor": "white",
            "ticks": ""
           }
          },
          "scene": {
           "xaxis": {
            "backgroundcolor": "#E5ECF6",
            "gridcolor": "white",
            "gridwidth": 2,
            "linecolor": "white",
            "showbackground": true,
            "ticks": "",
            "zerolinecolor": "white"
           },
           "yaxis": {
            "backgroundcolor": "#E5ECF6",
            "gridcolor": "white",
            "gridwidth": 2,
            "linecolor": "white",
            "showbackground": true,
            "ticks": "",
            "zerolinecolor": "white"
           },
           "zaxis": {
            "backgroundcolor": "#E5ECF6",
            "gridcolor": "white",
            "gridwidth": 2,
            "linecolor": "white",
            "showbackground": true,
            "ticks": "",
            "zerolinecolor": "white"
           }
          },
          "shapedefaults": {
           "line": {
            "color": "#2a3f5f"
           }
          },
          "ternary": {
           "aaxis": {
            "gridcolor": "white",
            "linecolor": "white",
            "ticks": ""
           },
           "baxis": {
            "gridcolor": "white",
            "linecolor": "white",
            "ticks": ""
           },
           "bgcolor": "#E5ECF6",
           "caxis": {
            "gridcolor": "white",
            "linecolor": "white",
            "ticks": ""
           }
          },
          "title": {
           "x": 0.05
          },
          "xaxis": {
           "automargin": true,
           "gridcolor": "white",
           "linecolor": "white",
           "ticks": "",
           "title": {
            "standoff": 15
           },
           "zerolinecolor": "white",
           "zerolinewidth": 2
          },
          "yaxis": {
           "automargin": true,
           "gridcolor": "white",
           "linecolor": "white",
           "ticks": "",
           "title": {
            "standoff": 15
           },
           "zerolinecolor": "white",
           "zerolinewidth": 2
          }
         }
        },
        "title": {
         "text": "Correlation amongst Numerical Features"
        },
        "width": 800,
        "xaxis": {
         "anchor": "y",
         "constrain": "domain",
         "domain": [
          0,
          1
         ],
         "scaleanchor": "y"
        },
        "yaxis": {
         "anchor": "x",
         "autorange": "reversed",
         "constrain": "domain",
         "domain": [
          0,
          1
         ]
        }
       }
      }
     },
     "metadata": {},
     "output_type": "display_data"
    }
   ],
   "source": [
    "#Correlation amongst numerical features (excluding target) visualization using plotly express\n",
    "num_train = train.select_dtypes(\"number\")\n",
    "fig = px.imshow(num_train.drop(columns = 'Life expectancy').corr(), title = \"Correlation amongst Numerical Features\")\n",
    "fig.update_layout(width = 800, height = 700)\n",
    "fig.show()"
   ]
  },
  {
   "cell_type": "code",
   "execution_count": 9,
   "id": "f5cbf658",
   "metadata": {},
   "outputs": [
    {
     "data": {
      "text/plain": [
       "Adult Mortality                   -0.69\n",
       "HIV/AIDS                          -0.57\n",
       "thinness  1-19 years              -0.47\n",
       "thinness 5-9 years                -0.47\n",
       "under-five deaths                 -0.20\n",
       "infant deaths                     -0.17\n",
       "Measles                           -0.14\n",
       "Population                        -0.02\n",
       "Year                               0.18\n",
       "Total expenditure                  0.18\n",
       "Hepatitis B                        0.23\n",
       "Alcohol                            0.39\n",
       "percentage expenditure             0.41\n",
       "Polio                              0.44\n",
       "Diphtheria                         0.45\n",
       "GDP                                0.47\n",
       "BMI                                0.57\n",
       "Income composition of resources    0.73\n",
       "Schooling                          0.75\n",
       "Life expectancy                    1.00\n",
       "Name: Life expectancy, dtype: float64"
      ]
     },
     "execution_count": 9,
     "metadata": {},
     "output_type": "execute_result"
    }
   ],
   "source": [
    "#Investigate the correlation with target\n",
    "\n",
    "num_train.corr()['Life expectancy'].sort_values()"
   ]
  },
  {
   "cell_type": "code",
   "execution_count": null,
   "id": "d1210b63-eddd-4198-b4ed-44b13b6dd4a6",
   "metadata": {},
   "outputs": [],
   "source": []
  },
  {
   "cell_type": "code",
   "execution_count": null,
   "id": "e1df989c-884e-493b-9b9b-ae11f4db925f",
   "metadata": {},
   "outputs": [],
   "source": []
  },
  {
   "cell_type": "markdown",
   "id": "a5bca595-2702-4a72-84bd-3e226593843b",
   "metadata": {},
   "source": [
    "# 4  Prepare the Data\n",
    "\n",
    " The appropraite steps for this :\n",
    "\n",
    "1. **Separate predictors and labels** – drop the target column *Life expectancy* from the feature set.\n",
    "2. **Build a custom transformer** (`CombinedAttributesAdder`) to create new ratio features noted during EDA (e.g. birth-thinness ratio).\n",
    "3. **Create two pipelines**  \n",
    "   * *Numerical pipeline*: median-impute → standardise.  \n",
    "   * *Categorical pipeline*: one-hot encode `Status`.\n",
    "4. **Wrap both in a ColumnTransformer** so the same steps apply every time the data flow through (training, validation, test).\n",
    "5. **Fit + transform the training set only**, producing `train_prepared`, the clean matrix ready for model selection.\n"
   ]
  },
  {
   "cell_type": "code",
   "execution_count": null,
   "id": "e557554f-aa79-4d27-9578-550fe3bad34a",
   "metadata": {},
   "outputs": [],
   "source": []
  },
  {
   "cell_type": "code",
   "execution_count": 10,
   "id": "022b1f9b-bc6d-44db-b230-6410301c93bc",
   "metadata": {},
   "outputs": [],
   "source": [
    "# Since we cant impute Label, Drop rows where the target 'Life expectancy' is NaN\n",
    "strat_train_set = strat_train_set.dropna(subset=[\"Life expectancy\"]).reset_index(drop=True)\n",
    "\n",
    "# Now redoing the feature/label split\n",
    "train_labels   = strat_train_set[\"Life expectancy\"]\n",
    "train_features = strat_train_set.drop(\"Life expectancy\", axis=1)\n",
    "\n",
    "\n",
    "# Lists of columns\n",
    "num_attribs = train_features.select_dtypes(include=[\"int64\", \"float64\"]).columns\n",
    "cat_attribs = [\"Status\"]\n",
    "\n",
    "# Custom transformer: thinness_ratio = thinness_5-9 / thinness_1-19\n",
    "\n",
    "class CombinedAttributesAdder(BaseEstimator, TransformerMixin):\n",
    "    def __init__(self, add_thinness_ratio=True):\n",
    "        self.add_thinness_ratio = add_thinness_ratio\n",
    "\n",
    "    def fit(self, X, y=None):\n",
    "        return self\n",
    "\n",
    "    def transform(self, X):\n",
    "        if not self.add_thinness_ratio:\n",
    "            return X\n",
    "\n",
    "        idx_5_9  = num_attribs.get_loc(\"thinness 5-9 years\")\n",
    "        idx_1_19 = num_attribs.get_loc(\"thinness  1-19 years\")\n",
    "\n",
    "        thin5_9  = X[:, idx_5_9]\n",
    "        thin1_19 = X[:, idx_1_19]\n",
    "\n",
    "        ratio = np.divide(\n",
    "            thin5_9, thin1_19,\n",
    "            out=np.zeros_like(thin5_9),\n",
    "            where=thin1_19 != 0\n",
    "        )\n",
    "        return np.c_[X, ratio]\n",
    "\n",
    "    def get_feature_names_out(self, input_features=None):\n",
    "        if input_features is None:\n",
    "            input_features = num_attribs  # fallback, in case input_features not passed\n",
    "\n",
    "        if self.add_thinness_ratio:\n",
    "            return np.append(input_features, [\"thinness_ratio\"])\n",
    "        else:\n",
    "            return input_features\n",
    "\n",
    "# Numerical and categorical pipelines\n",
    "num_pipeline = Pipeline([\n",
    "    (\"imputer\", SimpleImputer(strategy=\"median\")),\n",
    "    (\"attribs_adder\", CombinedAttributesAdder()),\n",
    "    (\"std_scaler\", StandardScaler())\n",
    "])\n",
    "\n",
    "cat_pipeline = Pipeline([\n",
    "    (\"onehot\", OneHotEncoder(handle_unknown=\"ignore\"))\n",
    "])\n",
    "\n",
    "# Full ColumnTransformer\n",
    "full_pipeline = ColumnTransformer([\n",
    "    (\"num\", num_pipeline, num_attribs),\n",
    "    (\"cat\", cat_pipeline, cat_attribs)\n",
    "])\n"
   ]
  },
  {
   "cell_type": "code",
   "execution_count": 11,
   "id": "f896fd82-03db-481b-a3ba-49e5fc481fdc",
   "metadata": {},
   "outputs": [
    {
     "name": "stdout",
     "output_type": "stream",
     "text": [
      "Prepared feature matrix shape : (2213, 22)\n",
      "Example row (first 5 values)   : [-1.62344659 -0.69659851 -0.2400394   1.74948232  2.58821196]\n"
     ]
    }
   ],
   "source": [
    "train_prepared = full_pipeline.fit_transform(train_features)\n",
    "\n",
    "print(\"Prepared feature matrix shape :\", train_prepared.shape)\n",
    "print(\"Example row (first 5 values)   :\", train_prepared[0][:5])\n"
   ]
  },
  {
   "cell_type": "code",
   "execution_count": null,
   "id": "2c136d88-5294-4ebe-9927-3bad4d04d520",
   "metadata": {},
   "outputs": [],
   "source": []
  },
  {
   "cell_type": "code",
   "execution_count": null,
   "id": "39c3cbd7-ae16-4f15-a96f-8b4f532f7cba",
   "metadata": {},
   "outputs": [],
   "source": []
  },
  {
   "cell_type": "markdown",
   "id": "55f6bba4-c06e-4a90-9127-e2ab373c4ab8",
   "metadata": {},
   "source": [
    "# 5  Select & Train Models\n",
    "\n",
    "The workflow :\n",
    "\n",
    "1. **Baseline model** – Linear Regression gives a quick performance floor.\n",
    "2. **Non-linear tree** – Decision Tree (expected to overfit, illustrating the bias-variance trade-off).\n",
    "3. **Ensemble** – Random Forest usually improves generalisation.\n",
    "4. **Scale-sensitive model** – Support-Vector Regression (RBF kernel) to test a different family.\n",
    "\n",
    "Each model is evaluated with 10-fold cross-validation on the **prepared training matrix**.  \n",
    "We report the **mean RMSE ± standard deviation** across folds, then choose the most promising model for fine-tuning in Section 6.\n"
   ]
  },
  {
   "cell_type": "code",
   "execution_count": null,
   "id": "def98f89-0869-4679-b96c-9cb35e9637f2",
   "metadata": {},
   "outputs": [],
   "source": []
  },
  {
   "cell_type": "code",
   "execution_count": 12,
   "id": "b9cd4d7d-d419-48f1-903c-95fa1ac4eac1",
   "metadata": {},
   "outputs": [],
   "source": [
    "#A function that evaludates the MSE of each model\n",
    "def cv_rmse(model, X, y, cv=10):\n",
    "    \"\"\"Return negative MSE scores → convert to positive RMSE array.\"\"\"\n",
    "    neg_mse = cross_val_score(model, X, y,\n",
    "                              scoring=\"neg_mean_squared_error\",\n",
    "                              cv=cv,\n",
    "                              n_jobs=-1)\n",
    "    rmse = np.sqrt(-neg_mse)\n",
    "    return rmse\n"
   ]
  },
  {
   "cell_type": "code",
   "execution_count": 13,
   "id": "6a505a3f-1fc4-48f2-a897-5c71304ef878",
   "metadata": {},
   "outputs": [
    {
     "name": "stdout",
     "output_type": "stream",
     "text": [
      "Model performance (10-fold CV - RMSE in years):\n",
      "\n",
      "Linear Regression    3.79 ± 0.25  (Time: 9.31 sec)\n",
      "Decision Tree        2.56 ± 0.20  (Time: 1.20 sec)\n",
      "Random Forest        1.82 ± 0.20  (Time: 20.13 sec)\n",
      "SVR (RBF)            3.55 ± 0.37  (Time: 2.13 sec)\n"
     ]
    }
   ],
   "source": [
    "#We would also want to evaluate the time it took each model to evaluate the cross validation\n",
    "results = {}\n",
    "\n",
    "# Helper to time and compute RMSE\n",
    "def evaluate_model(model, name):\n",
    "    start_time = time.time()\n",
    "    rmse_scores = cv_rmse(model, train_prepared, train_labels)\n",
    "    elapsed_time = time.time() - start_time\n",
    "    results[name] = {\"rmse\": rmse_scores, \"time\": elapsed_time}\n",
    "\n",
    "# 5.1  Linear Regression\n",
    "evaluate_model(LinearRegression(), \"Linear Regression\")\n",
    "\n",
    "# 5.2  Decision Tree\n",
    "evaluate_model(DecisionTreeRegressor(random_state=RANDOM_STATE), \"Decision Tree\")\n",
    "\n",
    "# 5.3  Random Forest\n",
    "evaluate_model(RandomForestRegressor(random_state=RANDOM_STATE), \"Random Forest\")\n",
    "\n",
    "# 5.4  Support-Vector Regression (RBF kernel)\n",
    "evaluate_model(SVR(kernel=\"rbf\"), \"SVR (RBF)\")\n",
    "\n",
    "# Print results\n",
    "print(\"Model performance (10-fold CV - RMSE in years):\\n\")\n",
    "for name, result in results.items():\n",
    "    mean_rmse = result[\"rmse\"].mean()\n",
    "    std_rmse = result[\"rmse\"].std()\n",
    "    time_taken = result[\"time\"]\n",
    "    print(f\"{name:18s}  {mean_rmse:5.2f} ± {std_rmse:4.2f}  (Time: {time_taken:.2f} sec)\")\n"
   ]
  },
  {
   "cell_type": "code",
   "execution_count": null,
   "id": "9934c3be-f2c6-4be5-a9a8-12aa841b8f4b",
   "metadata": {},
   "outputs": [],
   "source": []
  },
  {
   "cell_type": "code",
   "execution_count": null,
   "id": "1cef57e5-419d-4976-a83b-3d526b2afec1",
   "metadata": {},
   "outputs": [],
   "source": []
  },
  {
   "cell_type": "markdown",
   "id": "54a7a6f9-9607-42da-bfd9-d96fd8d766e0",
   "metadata": {},
   "source": [
    "# 6  Fine-Tune the Model\n",
    "\n",
    "fine-tunning the Random-Forest baseline with a `GridSearchCV`,As follows:\n",
    "\n",
    "* **Parameter grid**  \n",
    "  * `n_estimators` – number of trees  \n",
    "  * `max_features` – number of attributes tried at each split  \n",
    "  * `max_depth` – tree depth (optional cap to reduce over-fit)\n",
    "\n",
    "* **Evaluation metric** – negative MSE (converted to RMSE) across 5-fold CV on the *prepared* training data.\n",
    "\n",
    "The grid search trains *k × m × d* forests (one per hyper-parameter combo), picks the lowest average RMSE, and exposes it as `best_estimator_`.\n",
    "\n",
    "We then keep the best model for the final test-set evaluation in The next section\n"
   ]
  },
  {
   "cell_type": "code",
   "execution_count": null,
   "id": "85a6ca31-d6ad-429f-a493-07383e9e8b0c",
   "metadata": {},
   "outputs": [],
   "source": []
  },
  {
   "cell_type": "code",
   "execution_count": 14,
   "id": "9699b311-9244-4083-9c6f-eb13d2da605b",
   "metadata": {},
   "outputs": [
    {
     "name": "stdout",
     "output_type": "stream",
     "text": [
      "Fitting 5 folds for each of 27 candidates, totalling 135 fits\n",
      "\n",
      "Best parameters : {'max_depth': 20, 'max_features': 10, 'n_estimators': 200}\n",
      "Best CV RMSE    :  1.88 years\n",
      "\n",
      "Saved best model to random_forest_best.pkl\n"
     ]
    }
   ],
   "source": [
    "# 6.1  Define the parameter grid (Week-2 style)\n",
    "param_grid = [\n",
    "    {\"n_estimators\": [50, 100, 200],\n",
    "     \"max_features\": [6, 8, 10],\n",
    "     \"max_depth\":    [None, 20, 40]}\n",
    "]\n",
    "\n",
    "forest_reg = RandomForestRegressor(random_state=RANDOM_STATE)\n",
    "\n",
    "grid_search = GridSearchCV(\n",
    "    forest_reg,\n",
    "    param_grid,\n",
    "    cv=5,\n",
    "    scoring=\"neg_mean_squared_error\",\n",
    "    n_jobs=-1,\n",
    "    verbose=2\n",
    ")\n",
    "\n",
    "grid_search.fit(train_prepared, train_labels)\n",
    "\n",
    "# 6.2  Display results\n",
    "print(\"\\nBest parameters :\", grid_search.best_params_)\n",
    "best_rmse = (-grid_search.best_score_)**0.5\n",
    "print(f\"Best CV RMSE    : {best_rmse:5.2f} years\")\n",
    "\n",
    "# 6.3  Keep the best model\n",
    "final_model = grid_search.best_estimator_\n",
    "joblib.dump(final_model, \"random_forest_best.pkl\")\n",
    "print(\"\\nSaved best model to random_forest_best.pkl\")\n"
   ]
  },
  {
   "cell_type": "code",
   "execution_count": 15,
   "id": "1a5343e1-911d-43f2-ab4e-6780d39f56f9",
   "metadata": {},
   "outputs": [
    {
     "data": {
      "text/plain": [
       "num__Income composition of resources    3.26e-01\n",
       "num__HIV/AIDS                           2.76e-01\n",
       "num__Adult Mortality                    1.43e-01\n",
       "num__Schooling                          1.08e-01\n",
       "num__BMI                                3.53e-02\n",
       "num__under-five deaths                  1.53e-02\n",
       "num__thinness 5-9 years                 1.09e-02\n",
       "num__thinness  1-19 years               1.04e-02\n",
       "num__GDP                                9.27e-03\n",
       "num__Total expenditure                  7.87e-03\n",
       "num__infant deaths                      7.60e-03\n",
       "num__Alcohol                            6.86e-03\n",
       "num__Diphtheria                         6.40e-03\n",
       "num__Year                               6.26e-03\n",
       "num__Polio                              5.21e-03\n",
       "cat__Status_Developed                   5.09e-03\n",
       "num__thinness_ratio                     4.58e-03\n",
       "num__percentage expenditure             4.47e-03\n",
       "num__Population                         3.37e-03\n",
       "cat__Status_Developing                  3.28e-03\n",
       "num__Measles                            3.02e-03\n",
       "num__Hepatitis B                        2.35e-03\n",
       "dtype: float64"
      ]
     },
     "metadata": {},
     "output_type": "display_data"
    },
    {
     "data": {
      "application/vnd.plotly.v1+json": {
       "config": {
        "plotlyServerURL": "https://plot.ly"
       },
       "data": [
        {
         "alignmentgroup": "True",
         "hovertemplate": "index=%{x}<br>y=%{y}<extra></extra>",
         "legendgroup": "",
         "marker": {
          "color": "#636efa",
          "pattern": {
           "shape": ""
          }
         },
         "name": "",
         "offsetgroup": "",
         "orientation": "v",
         "showlegend": false,
         "textposition": "auto",
         "type": "bar",
         "x": [
          "num__Income composition of resources",
          "num__HIV/AIDS",
          "num__Adult Mortality",
          "num__Schooling",
          "num__BMI",
          "num__under-five deaths",
          "num__thinness 5-9 years",
          "num__thinness  1-19 years",
          "num__GDP",
          "num__Total expenditure",
          "num__infant deaths",
          "num__Alcohol",
          "num__Diphtheria",
          "num__Year",
          "num__Polio",
          "cat__Status_Developed",
          "num__thinness_ratio",
          "num__percentage expenditure",
          "num__Population",
          "cat__Status_Developing",
          "num__Measles",
          "num__Hepatitis B"
         ],
         "xaxis": "x",
         "y": [
          0.32575204748150594,
          0.27552563733767327,
          0.1431552094810003,
          0.1080558078932248,
          0.035285494218942996,
          0.01530427680421602,
          0.010869944395656929,
          0.010448913027109825,
          0.009266793802964905,
          0.007872782004527639,
          0.007595713788567566,
          0.006857697097188279,
          0.006395211295512228,
          0.006256198712511554,
          0.0052084240419717435,
          0.005088796493257469,
          0.00457682802290396,
          0.004465058550136797,
          0.0033744903519735484,
          0.00327880070212654,
          0.0030185966676944116,
          0.0023472778293332484
         ],
         "yaxis": "y"
        }
       ],
       "layout": {
        "barmode": "relative",
        "height": 450,
        "legend": {
         "tracegroupgap": 0
        },
        "template": {
         "data": {
          "bar": [
           {
            "error_x": {
             "color": "#2a3f5f"
            },
            "error_y": {
             "color": "#2a3f5f"
            },
            "marker": {
             "line": {
              "color": "#E5ECF6",
              "width": 0.5
             },
             "pattern": {
              "fillmode": "overlay",
              "size": 10,
              "solidity": 0.2
             }
            },
            "type": "bar"
           }
          ],
          "barpolar": [
           {
            "marker": {
             "line": {
              "color": "#E5ECF6",
              "width": 0.5
             },
             "pattern": {
              "fillmode": "overlay",
              "size": 10,
              "solidity": 0.2
             }
            },
            "type": "barpolar"
           }
          ],
          "carpet": [
           {
            "aaxis": {
             "endlinecolor": "#2a3f5f",
             "gridcolor": "white",
             "linecolor": "white",
             "minorgridcolor": "white",
             "startlinecolor": "#2a3f5f"
            },
            "baxis": {
             "endlinecolor": "#2a3f5f",
             "gridcolor": "white",
             "linecolor": "white",
             "minorgridcolor": "white",
             "startlinecolor": "#2a3f5f"
            },
            "type": "carpet"
           }
          ],
          "choropleth": [
           {
            "colorbar": {
             "outlinewidth": 0,
             "ticks": ""
            },
            "type": "choropleth"
           }
          ],
          "contour": [
           {
            "colorbar": {
             "outlinewidth": 0,
             "ticks": ""
            },
            "colorscale": [
             [
              0,
              "#0d0887"
             ],
             [
              0.1111111111111111,
              "#46039f"
             ],
             [
              0.2222222222222222,
              "#7201a8"
             ],
             [
              0.3333333333333333,
              "#9c179e"
             ],
             [
              0.4444444444444444,
              "#bd3786"
             ],
             [
              0.5555555555555556,
              "#d8576b"
             ],
             [
              0.6666666666666666,
              "#ed7953"
             ],
             [
              0.7777777777777778,
              "#fb9f3a"
             ],
             [
              0.8888888888888888,
              "#fdca26"
             ],
             [
              1,
              "#f0f921"
             ]
            ],
            "type": "contour"
           }
          ],
          "contourcarpet": [
           {
            "colorbar": {
             "outlinewidth": 0,
             "ticks": ""
            },
            "type": "contourcarpet"
           }
          ],
          "heatmap": [
           {
            "colorbar": {
             "outlinewidth": 0,
             "ticks": ""
            },
            "colorscale": [
             [
              0,
              "#0d0887"
             ],
             [
              0.1111111111111111,
              "#46039f"
             ],
             [
              0.2222222222222222,
              "#7201a8"
             ],
             [
              0.3333333333333333,
              "#9c179e"
             ],
             [
              0.4444444444444444,
              "#bd3786"
             ],
             [
              0.5555555555555556,
              "#d8576b"
             ],
             [
              0.6666666666666666,
              "#ed7953"
             ],
             [
              0.7777777777777778,
              "#fb9f3a"
             ],
             [
              0.8888888888888888,
              "#fdca26"
             ],
             [
              1,
              "#f0f921"
             ]
            ],
            "type": "heatmap"
           }
          ],
          "heatmapgl": [
           {
            "colorbar": {
             "outlinewidth": 0,
             "ticks": ""
            },
            "colorscale": [
             [
              0,
              "#0d0887"
             ],
             [
              0.1111111111111111,
              "#46039f"
             ],
             [
              0.2222222222222222,
              "#7201a8"
             ],
             [
              0.3333333333333333,
              "#9c179e"
             ],
             [
              0.4444444444444444,
              "#bd3786"
             ],
             [
              0.5555555555555556,
              "#d8576b"
             ],
             [
              0.6666666666666666,
              "#ed7953"
             ],
             [
              0.7777777777777778,
              "#fb9f3a"
             ],
             [
              0.8888888888888888,
              "#fdca26"
             ],
             [
              1,
              "#f0f921"
             ]
            ],
            "type": "heatmapgl"
           }
          ],
          "histogram": [
           {
            "marker": {
             "pattern": {
              "fillmode": "overlay",
              "size": 10,
              "solidity": 0.2
             }
            },
            "type": "histogram"
           }
          ],
          "histogram2d": [
           {
            "colorbar": {
             "outlinewidth": 0,
             "ticks": ""
            },
            "colorscale": [
             [
              0,
              "#0d0887"
             ],
             [
              0.1111111111111111,
              "#46039f"
             ],
             [
              0.2222222222222222,
              "#7201a8"
             ],
             [
              0.3333333333333333,
              "#9c179e"
             ],
             [
              0.4444444444444444,
              "#bd3786"
             ],
             [
              0.5555555555555556,
              "#d8576b"
             ],
             [
              0.6666666666666666,
              "#ed7953"
             ],
             [
              0.7777777777777778,
              "#fb9f3a"
             ],
             [
              0.8888888888888888,
              "#fdca26"
             ],
             [
              1,
              "#f0f921"
             ]
            ],
            "type": "histogram2d"
           }
          ],
          "histogram2dcontour": [
           {
            "colorbar": {
             "outlinewidth": 0,
             "ticks": ""
            },
            "colorscale": [
             [
              0,
              "#0d0887"
             ],
             [
              0.1111111111111111,
              "#46039f"
             ],
             [
              0.2222222222222222,
              "#7201a8"
             ],
             [
              0.3333333333333333,
              "#9c179e"
             ],
             [
              0.4444444444444444,
              "#bd3786"
             ],
             [
              0.5555555555555556,
              "#d8576b"
             ],
             [
              0.6666666666666666,
              "#ed7953"
             ],
             [
              0.7777777777777778,
              "#fb9f3a"
             ],
             [
              0.8888888888888888,
              "#fdca26"
             ],
             [
              1,
              "#f0f921"
             ]
            ],
            "type": "histogram2dcontour"
           }
          ],
          "mesh3d": [
           {
            "colorbar": {
             "outlinewidth": 0,
             "ticks": ""
            },
            "type": "mesh3d"
           }
          ],
          "parcoords": [
           {
            "line": {
             "colorbar": {
              "outlinewidth": 0,
              "ticks": ""
             }
            },
            "type": "parcoords"
           }
          ],
          "pie": [
           {
            "automargin": true,
            "type": "pie"
           }
          ],
          "scatter": [
           {
            "fillpattern": {
             "fillmode": "overlay",
             "size": 10,
             "solidity": 0.2
            },
            "type": "scatter"
           }
          ],
          "scatter3d": [
           {
            "line": {
             "colorbar": {
              "outlinewidth": 0,
              "ticks": ""
             }
            },
            "marker": {
             "colorbar": {
              "outlinewidth": 0,
              "ticks": ""
             }
            },
            "type": "scatter3d"
           }
          ],
          "scattercarpet": [
           {
            "marker": {
             "colorbar": {
              "outlinewidth": 0,
              "ticks": ""
             }
            },
            "type": "scattercarpet"
           }
          ],
          "scattergeo": [
           {
            "marker": {
             "colorbar": {
              "outlinewidth": 0,
              "ticks": ""
             }
            },
            "type": "scattergeo"
           }
          ],
          "scattergl": [
           {
            "marker": {
             "colorbar": {
              "outlinewidth": 0,
              "ticks": ""
             }
            },
            "type": "scattergl"
           }
          ],
          "scattermapbox": [
           {
            "marker": {
             "colorbar": {
              "outlinewidth": 0,
              "ticks": ""
             }
            },
            "type": "scattermapbox"
           }
          ],
          "scatterpolar": [
           {
            "marker": {
             "colorbar": {
              "outlinewidth": 0,
              "ticks": ""
             }
            },
            "type": "scatterpolar"
           }
          ],
          "scatterpolargl": [
           {
            "marker": {
             "colorbar": {
              "outlinewidth": 0,
              "ticks": ""
             }
            },
            "type": "scatterpolargl"
           }
          ],
          "scatterternary": [
           {
            "marker": {
             "colorbar": {
              "outlinewidth": 0,
              "ticks": ""
             }
            },
            "type": "scatterternary"
           }
          ],
          "surface": [
           {
            "colorbar": {
             "outlinewidth": 0,
             "ticks": ""
            },
            "colorscale": [
             [
              0,
              "#0d0887"
             ],
             [
              0.1111111111111111,
              "#46039f"
             ],
             [
              0.2222222222222222,
              "#7201a8"
             ],
             [
              0.3333333333333333,
              "#9c179e"
             ],
             [
              0.4444444444444444,
              "#bd3786"
             ],
             [
              0.5555555555555556,
              "#d8576b"
             ],
             [
              0.6666666666666666,
              "#ed7953"
             ],
             [
              0.7777777777777778,
              "#fb9f3a"
             ],
             [
              0.8888888888888888,
              "#fdca26"
             ],
             [
              1,
              "#f0f921"
             ]
            ],
            "type": "surface"
           }
          ],
          "table": [
           {
            "cells": {
             "fill": {
              "color": "#EBF0F8"
             },
             "line": {
              "color": "white"
             }
            },
            "header": {
             "fill": {
              "color": "#C8D4E3"
             },
             "line": {
              "color": "white"
             }
            },
            "type": "table"
           }
          ]
         },
         "layout": {
          "annotationdefaults": {
           "arrowcolor": "#2a3f5f",
           "arrowhead": 0,
           "arrowwidth": 1
          },
          "autotypenumbers": "strict",
          "coloraxis": {
           "colorbar": {
            "outlinewidth": 0,
            "ticks": ""
           }
          },
          "colorscale": {
           "diverging": [
            [
             0,
             "#8e0152"
            ],
            [
             0.1,
             "#c51b7d"
            ],
            [
             0.2,
             "#de77ae"
            ],
            [
             0.3,
             "#f1b6da"
            ],
            [
             0.4,
             "#fde0ef"
            ],
            [
             0.5,
             "#f7f7f7"
            ],
            [
             0.6,
             "#e6f5d0"
            ],
            [
             0.7,
             "#b8e186"
            ],
            [
             0.8,
             "#7fbc41"
            ],
            [
             0.9,
             "#4d9221"
            ],
            [
             1,
             "#276419"
            ]
           ],
           "sequential": [
            [
             0,
             "#0d0887"
            ],
            [
             0.1111111111111111,
             "#46039f"
            ],
            [
             0.2222222222222222,
             "#7201a8"
            ],
            [
             0.3333333333333333,
             "#9c179e"
            ],
            [
             0.4444444444444444,
             "#bd3786"
            ],
            [
             0.5555555555555556,
             "#d8576b"
            ],
            [
             0.6666666666666666,
             "#ed7953"
            ],
            [
             0.7777777777777778,
             "#fb9f3a"
            ],
            [
             0.8888888888888888,
             "#fdca26"
            ],
            [
             1,
             "#f0f921"
            ]
           ],
           "sequentialminus": [
            [
             0,
             "#0d0887"
            ],
            [
             0.1111111111111111,
             "#46039f"
            ],
            [
             0.2222222222222222,
             "#7201a8"
            ],
            [
             0.3333333333333333,
             "#9c179e"
            ],
            [
             0.4444444444444444,
             "#bd3786"
            ],
            [
             0.5555555555555556,
             "#d8576b"
            ],
            [
             0.6666666666666666,
             "#ed7953"
            ],
            [
             0.7777777777777778,
             "#fb9f3a"
            ],
            [
             0.8888888888888888,
             "#fdca26"
            ],
            [
             1,
             "#f0f921"
            ]
           ]
          },
          "colorway": [
           "#636efa",
           "#EF553B",
           "#00cc96",
           "#ab63fa",
           "#FFA15A",
           "#19d3f3",
           "#FF6692",
           "#B6E880",
           "#FF97FF",
           "#FECB52"
          ],
          "font": {
           "color": "#2a3f5f"
          },
          "geo": {
           "bgcolor": "white",
           "lakecolor": "white",
           "landcolor": "#E5ECF6",
           "showlakes": true,
           "showland": true,
           "subunitcolor": "white"
          },
          "hoverlabel": {
           "align": "left"
          },
          "hovermode": "closest",
          "mapbox": {
           "style": "light"
          },
          "paper_bgcolor": "white",
          "plot_bgcolor": "#E5ECF6",
          "polar": {
           "angularaxis": {
            "gridcolor": "white",
            "linecolor": "white",
            "ticks": ""
           },
           "bgcolor": "#E5ECF6",
           "radialaxis": {
            "gridcolor": "white",
            "linecolor": "white",
            "ticks": ""
           }
          },
          "scene": {
           "xaxis": {
            "backgroundcolor": "#E5ECF6",
            "gridcolor": "white",
            "gridwidth": 2,
            "linecolor": "white",
            "showbackground": true,
            "ticks": "",
            "zerolinecolor": "white"
           },
           "yaxis": {
            "backgroundcolor": "#E5ECF6",
            "gridcolor": "white",
            "gridwidth": 2,
            "linecolor": "white",
            "showbackground": true,
            "ticks": "",
            "zerolinecolor": "white"
           },
           "zaxis": {
            "backgroundcolor": "#E5ECF6",
            "gridcolor": "white",
            "gridwidth": 2,
            "linecolor": "white",
            "showbackground": true,
            "ticks": "",
            "zerolinecolor": "white"
           }
          },
          "shapedefaults": {
           "line": {
            "color": "#2a3f5f"
           }
          },
          "ternary": {
           "aaxis": {
            "gridcolor": "white",
            "linecolor": "white",
            "ticks": ""
           },
           "baxis": {
            "gridcolor": "white",
            "linecolor": "white",
            "ticks": ""
           },
           "bgcolor": "#E5ECF6",
           "caxis": {
            "gridcolor": "white",
            "linecolor": "white",
            "ticks": ""
           }
          },
          "title": {
           "x": 0.05
          },
          "xaxis": {
           "automargin": true,
           "gridcolor": "white",
           "linecolor": "white",
           "ticks": "",
           "title": {
            "standoff": 15
           },
           "zerolinecolor": "white",
           "zerolinewidth": 2
          },
          "yaxis": {
           "automargin": true,
           "gridcolor": "white",
           "linecolor": "white",
           "ticks": "",
           "title": {
            "standoff": 15
           },
           "zerolinecolor": "white",
           "zerolinewidth": 2
          }
         }
        },
        "title": {
         "text": "Feature Importances with Final Model (Random Forest Regressor)"
        },
        "xaxis": {
         "anchor": "y",
         "domain": [
          0,
          1
         ],
         "title": {
          "text": "Features"
         }
        },
        "yaxis": {
         "anchor": "x",
         "domain": [
          0,
          1
         ],
         "title": {
          "text": "Feautre Importances"
         }
        }
       }
      }
     },
     "metadata": {},
     "output_type": "display_data"
    }
   ],
   "source": [
    "#Feature Importance from our Final Model (RandomForestRegressor)\n",
    "importances =  final_model.feature_importances_\n",
    "fi_df = pd.Series(importances, index = full_pipeline.get_feature_names_out()).sort_values(ascending = False)\n",
    "display(fi_df)\n",
    "\n",
    "#Using plotly.express bar\n",
    "\n",
    "fig = px.bar(\n",
    "    fi_df,\n",
    "    x = fi_df.index,\n",
    "    y = fi_df.values,\n",
    "    title = \"Feature Importances with Final Model (Random Forest Regressor)\"\n",
    ")\n",
    "fig.update_layout(xaxis_title = \"Features\", yaxis_title = \"Feautre Importances\", height = 450)\n",
    "fig.show()"
   ]
  },
  {
   "cell_type": "code",
   "execution_count": null,
   "id": "a988af10-b60c-4a7e-a467-b843fbcc3cd6",
   "metadata": {},
   "outputs": [],
   "source": []
  },
  {
   "cell_type": "code",
   "execution_count": null,
   "id": "005930ef-67ea-478b-a66c-06f294aec779",
   "metadata": {},
   "outputs": [],
   "source": []
  },
  {
   "cell_type": "markdown",
   "id": "611719b1-00a4-4f52-9196-cf1e57373a4e",
   "metadata": {},
   "source": [
    "# 7  Evaluate on the Test Set\n",
    "\n",
    "Note: We touch the hold-out test data **only once**, to obtain an unbiased estimate of real-world performance.\n",
    "\n",
    "**Steps**\n",
    "\n",
    "1. Strip the label from `strat_test_set` to create `X_test`, keep `y_test`.\n",
    "2. Run the saved `full_pipeline` to reproduce every preprocessing step.\n",
    "3. Predict with the tuned Random Forest (`random_forest_best.pkl`).\n",
    "4. Report the final RMSE and a 95 % confidence interval.\n"
   ]
  },
  {
   "cell_type": "code",
   "execution_count": null,
   "id": "559539fc-c488-467e-a134-693e791b187c",
   "metadata": {},
   "outputs": [],
   "source": []
  },
  {
   "cell_type": "code",
   "execution_count": 16,
   "id": "23ba77b5-a5d1-4a6a-adde-c417e5507682",
   "metadata": {},
   "outputs": [
    {
     "name": "stdout",
     "output_type": "stream",
     "text": [
      "\n",
      "Final RMSE on hold-out test set:  1.82 years\n",
      "95 % confidence interval:  0.04 –  5.47 years\n"
     ]
    },
    {
     "name": "stderr",
     "output_type": "stream",
     "text": [
      "c:\\Users\\richmond\\AppData\\Local\\Programs\\Python\\Python312\\Lib\\site-packages\\sklearn\\metrics\\_regression.py:492: FutureWarning:\n",
      "\n",
      "'squared' is deprecated in version 1.4 and will be removed in 1.6. To calculate the root mean squared error, use the function'root_mean_squared_error'.\n",
      "\n"
     ]
    }
   ],
   "source": [
    "# 7.1  Separate features and labels from the untouched test set\n",
    "X_test  = strat_test_set.drop(\"Life expectancy\", axis=1)\n",
    "y_test  = strat_test_set[\"Life expectancy\"].copy()\n",
    "\n",
    "# 7.2  Re-use the fitted preprocessing pipeline\n",
    "X_test_prepared = full_pipeline.transform(X_test)\n",
    "\n",
    "# 7.3  Load the tuned model (already saved in Section 6)\n",
    "final_model = joblib.load(\"random_forest_best.pkl\")\n",
    "\n",
    "# 7.4  Predict and compute RMSE\n",
    "final_predictions = final_model.predict(X_test_prepared)\n",
    "final_rmse = mean_squared_error(y_test, final_predictions, squared=False)\n",
    "\n",
    "print(f\"\\nFinal RMSE on hold-out test set: {final_rmse:5.2f} years\")\n",
    "\n",
    "# 7.5  95 % confidence interval for the generalisation error\n",
    "squared_errors = (final_predictions - y_test) ** 2\n",
    "conf_int = np.sqrt(np.percentile(squared_errors,\n",
    "                                 [2.5, 97.5]))\n",
    "print(f\"95 % confidence interval: {conf_int[0]:5.2f} – {conf_int[1]:5.2f} years\")\n"
   ]
  },
  {
   "cell_type": "code",
   "execution_count": null,
   "id": "23e0ec4b-658d-4853-b49a-220baa0b3c23",
   "metadata": {},
   "outputs": [],
   "source": []
  }
 ],
 "metadata": {
  "kernelspec": {
   "display_name": "Python (base)",
   "language": "python",
   "name": "base"
  },
  "language_info": {
   "codemirror_mode": {
    "name": "ipython",
    "version": 3
   },
   "file_extension": ".py",
   "mimetype": "text/x-python",
   "name": "python",
   "nbconvert_exporter": "python",
   "pygments_lexer": "ipython3",
   "version": "3.12.3"
  }
 },
 "nbformat": 4,
 "nbformat_minor": 5
}
